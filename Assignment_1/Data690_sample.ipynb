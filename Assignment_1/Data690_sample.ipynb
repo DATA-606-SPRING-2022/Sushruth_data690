{
  "nbformat": 4,
  "nbformat_minor": 0,
  "metadata": {
    "colab": {
      "name": "Data690_sample.ipynb",
      "provenance": [],
      "authorship_tag": "ABX9TyMaBoVI0Dk+WikBuAmunggc",
      "include_colab_link": true
    },
    "kernelspec": {
      "name": "python3",
      "display_name": "Python 3"
    },
    "language_info": {
      "name": "python"
    }
  },
  "cells": [
    {
      "cell_type": "markdown",
      "metadata": {
        "id": "view-in-github",
        "colab_type": "text"
      },
      "source": [
        "<a href=\"https://colab.research.google.com/github/SushruthDt/Sushruth_data690/blob/main/Assignment_1/Data690_sample.ipynb\" target=\"_parent\"><img src=\"https://colab.research.google.com/assets/colab-badge.svg\" alt=\"Open In Colab\"/></a>"
      ]
    },
    {
      "cell_type": "markdown",
      "source": [
        "\n",
        "# Assignment 1\n",
        "This python notebook is created to calibrate it to my Github Repo"
      ],
      "metadata": {
        "id": "904lNyId6_rq"
      }
    }
  ]
}