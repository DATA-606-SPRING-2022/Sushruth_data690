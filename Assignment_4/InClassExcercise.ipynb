{
  "nbformat": 4,
  "nbformat_minor": 0,
  "metadata": {
    "colab": {
      "name": "InClassExcercise.ipynb",
      "provenance": [],
      "collapsed_sections": [],
      "authorship_tag": "ABX9TyP0KWKcNqEJXKE0rWVSItwO",
      "include_colab_link": true
    },
    "kernelspec": {
      "name": "python3",
      "display_name": "Python 3"
    },
    "language_info": {
      "name": "python"
    }
  },
  "cells": [
    {
      "cell_type": "markdown",
      "metadata": {
        "id": "view-in-github",
        "colab_type": "text"
      },
      "source": [
        "<a href=\"https://colab.research.google.com/github/SushruthDt/Sushruth_data690/blob/main/Assignment_4/InClassExcercise.ipynb\" target=\"_parent\"><img src=\"https://colab.research.google.com/assets/colab-badge.svg\" alt=\"Open In Colab\"/></a>"
      ]
    },
    {
      "cell_type": "code",
      "execution_count": 1,
      "metadata": {
        "colab": {
          "base_uri": "https://localhost:8080/"
        },
        "id": "UHih3tou9Tww",
        "outputId": "0ceada3e-ce03-4fdd-e4b9-0d494995785e"
      },
      "outputs": [
        {
          "output_type": "stream",
          "name": "stdout",
          "text": [
            "\n",
            " @ 2 4 @ @ 2 0 8 @ @ \n",
            " @ 8 0 4 @ @ @ @ 8 @ \n",
            " @ 2 @ @ @ @ @ @ @ @ \n",
            " 4 @ 2 4 8 4 0 6 @ 0 \n",
            " 6 @ @ @ 8 @ @ 2 6 0 \n",
            " @ 8 @ @ 4 @ 4 8 @ @ \n",
            " @ @ @ @ 4 @ @ 6 8 @ \n",
            " @ 8 6 @ @ @ @ @ 4 0 \n",
            " 8 2 2 @ @ @ 2 @ 6 @ \n",
            " @ 8 @ @ 4 @ 0 4 @ @ "
          ]
        }
      ],
      "source": [
        "import random\n",
        "import re\n",
        "for i in range(0,10):\n",
        "    print(end=\"\\n \")\n",
        "    for j in range(0,10):\n",
        "        num=random.randint(0,9)\n",
        "        if (num % 2) == 0:\n",
        "            print(num, end=\" \")\n",
        "        else:\n",
        "            strnum = str(num)\n",
        "            strnum=strnum.replace(strnum,\"@\")\n",
        "            print(strnum, end=\" \")"
      ]
    },
    {
      "cell_type": "code",
      "source": [
        "#  generate 100 number first\n",
        "numbers=[]     # This list is to hold 100 random numbers\n",
        "for i in range(100):\n",
        "    numbers.append(random.randint(0, 9))\n",
        "print(numbers)\n",
        "print(len(numbers))"
      ],
      "metadata": {
        "colab": {
          "base_uri": "https://localhost:8080/"
        },
        "id": "g8ZI-Ciw9i97",
        "outputId": "ba03a758-75be-453a-f732-f8fbc9d6406b"
      },
      "execution_count": 3,
      "outputs": [
        {
          "output_type": "stream",
          "name": "stdout",
          "text": [
            "[9, 7, 2, 3, 6, 7, 2, 1, 6, 5, 6, 4, 1, 6, 6, 5, 5, 9, 5, 1, 8, 0, 7, 4, 3, 4, 0, 7, 0, 9, 0, 1, 9, 6, 9, 2, 3, 2, 8, 9, 3, 4, 3, 3, 3, 1, 0, 2, 2, 0, 7, 7, 0, 2, 8, 1, 4, 9, 2, 9, 5, 0, 0, 6, 1, 9, 6, 1, 4, 4, 5, 8, 9, 7, 1, 8, 2, 1, 4, 4, 0, 3, 3, 0, 9, 3, 5, 9, 9, 2, 8, 3, 1, 4, 8, 7, 9, 9, 8, 0]\n",
            "100\n"
          ]
        }
      ]
    },
    {
      "cell_type": "code",
      "source": [
        "count=0\n",
        "for i in range(10):\n",
        "    for j in range(10):\n",
        "        print(numbers[count],\" \", end =\" \")\n",
        "        count+=1\n",
        "    print(\"\\n\")"
      ],
      "metadata": {
        "colab": {
          "base_uri": "https://localhost:8080/"
        },
        "id": "0RqaJVFz9l32",
        "outputId": "270f016a-8356-4a5f-fdef-d755bc68a3f8"
      },
      "execution_count": 4,
      "outputs": [
        {
          "output_type": "stream",
          "name": "stdout",
          "text": [
            "9   7   2   3   6   7   2   1   6   5   \n",
            "\n",
            "6   4   1   6   6   5   5   9   5   1   \n",
            "\n",
            "8   0   7   4   3   4   0   7   0   9   \n",
            "\n",
            "0   1   9   6   9   2   3   2   8   9   \n",
            "\n",
            "3   4   3   3   3   1   0   2   2   0   \n",
            "\n",
            "7   7   0   2   8   1   4   9   2   9   \n",
            "\n",
            "5   0   0   6   1   9   6   1   4   4   \n",
            "\n",
            "5   8   9   7   1   8   2   1   4   4   \n",
            "\n",
            "0   3   3   0   9   3   5   9   9   2   \n",
            "\n",
            "8   3   1   4   8   7   9   9   8   0   \n",
            "\n"
          ]
        }
      ]
    },
    {
      "cell_type": "code",
      "source": [
        ""
      ],
      "metadata": {
        "id": "1WDtjBkY9m7Q"
      },
      "execution_count": null,
      "outputs": []
    }
  ]
}