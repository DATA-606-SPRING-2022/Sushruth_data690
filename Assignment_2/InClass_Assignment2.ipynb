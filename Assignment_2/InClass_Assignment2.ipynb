{
  "nbformat": 4,
  "nbformat_minor": 0,
  "metadata": {
    "colab": {
      "name": "InClass_Assignment2.ipynb",
      "provenance": [],
      "collapsed_sections": [],
      "authorship_tag": "ABX9TyP7SpwinrV7+JLlKZkC23R3",
      "include_colab_link": true
    },
    "kernelspec": {
      "name": "python3",
      "display_name": "Python 3"
    },
    "language_info": {
      "name": "python"
    }
  },
  "cells": [
    {
      "cell_type": "markdown",
      "metadata": {
        "id": "view-in-github",
        "colab_type": "text"
      },
      "source": [
        "<a href=\"https://colab.research.google.com/github/SushruthDt/Sushruth_data690/blob/main/Assignment_2/InClass_Assignment2.ipynb\" target=\"_parent\"><img src=\"https://colab.research.google.com/assets/colab-badge.svg\" alt=\"Open In Colab\"/></a>"
      ]
    },
    {
      "cell_type": "markdown",
      "source": [
        "#Assignment_2\n",
        "\n",
        "In class practice\n",
        "\n",
        "- Name : Sushruth\n",
        "- Date : 02/07/2020\n"
      ],
      "metadata": {
        "id": "6zZTSCsB7qND"
      }
    },
    {
      "cell_type": "code",
      "source": [
        "import pandas as pd\n",
        "url = 'https://raw.githubusercontent.com/DATA-690-SPRING-2022/WANG/main/assignment_02/survey.csv'\n",
        "df = pd.read_csv(url)\n",
        "df.shape"
      ],
      "metadata": {
        "colab": {
          "base_uri": "https://localhost:8080/"
        },
        "id": "XlWC824d76VI",
        "outputId": "5fa17d72-a4e6-4b81-bbe5-5acef7de169d"
      },
      "execution_count": 5,
      "outputs": [
        {
          "output_type": "execute_result",
          "data": {
            "text/plain": [
              "(26, 13)"
            ]
          },
          "metadata": {},
          "execution_count": 5
        }
      ]
    }
  ]
}